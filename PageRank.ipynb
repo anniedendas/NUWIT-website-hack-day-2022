{
  "nbformat": 4,
  "nbformat_minor": 0,
  "metadata": {
    "colab": {
      "name": "PageRank.ipynb",
      "provenance": [],
      "include_colab_link": true
    },
    "kernelspec": {
      "name": "python3",
      "display_name": "Python 3"
    },
    "language_info": {
      "name": "python"
    }
  },
  "cells": [
    {
      "cell_type": "markdown",
      "metadata": {
        "id": "view-in-github",
        "colab_type": "text"
      },
      "source": [
        "<a href=\"https://colab.research.google.com/github/anniedendas/NUWIT-website-hack-day-2022/blob/main/PageRank.ipynb\" target=\"_parent\"><img src=\"https://colab.research.google.com/assets/colab-badge.svg\" alt=\"Open In Colab\"/></a>"
      ]
    },
    {
      "cell_type": "markdown",
      "metadata": {
        "id": "Q2QKFIlR6HCY"
      },
      "source": [
        "# PageRank\n",
        "\n",
        "In this exercise, you will compute PageRank on a collection of 469,235 web sites using the iterative version of the PageRank algorithm described in class for sparse graphs.  As we discussed in class, this avoids performing cubic-time operations on a graph with a large number of nodes.\n",
        "\n",
        "Furthermore, you should take advantage of the _sparsity_ of the original hyperlinks, even though \"teleportation\" or random jumps connect every note to every other node.  As long as the maximum degree of the original link graph is much less than the number of nodes, you should be able to keep each iteration's runtime less than quadratic in the number of nodes.\n",
        "\n",
        "Consider the following directed graph:\n",
        "\n",
        "![A directed link graph](https://www.khoury.northeastern.edu/home/dasmith/courses/cs6200//pagerank.jpg)\n",
        "\n",
        "We can represent this graph as a collection of nodes, here, ordered pairs of node index and node name:"
      ]
    },
    {
      "cell_type": "code",
      "metadata": {
        "id": "4D_Mxj5pXKPl"
      },
      "source": [
        "small_nodes = [(0, 'A'),\n",
        "              (1, 'B'),\n",
        "              (2, 'C'),\n",
        "              (3, 'D'),\n",
        "              (4, 'E'),\n",
        "              (5, 'F')]"
      ],
      "execution_count": 1,
      "outputs": []
    },
    {
      "cell_type": "markdown",
      "metadata": {
        "id": "RTF3JKtTYxiZ"
      },
      "source": [
        "and a collection of directed links, i.e., ordered pairs from source to target:"
      ]
    },
    {
      "cell_type": "code",
      "metadata": {
        "id": "-i0V5ueOYDDN"
      },
      "source": [
        "small_edges = [\n",
        "  (0, 1),\n",
        "  (0, 2),\n",
        "  (0, 5),\n",
        "  (1, 2),\n",
        "  (1, 3),\n",
        "  (1, 4),\n",
        "  (1, 5),\n",
        "  (2, 3),\n",
        "  (2, 4),\n",
        "  (3, 0),\n",
        "  (3, 2),\n",
        "  (3, 4),\n",
        "  (3, 5),\n",
        "  (4, 0),\n",
        "  (5, 0),\n",
        "  (5, 1),\n",
        "  (5, 4)\n",
        "]"
      ],
      "execution_count": 2,
      "outputs": []
    },
    {
      "cell_type": "markdown",
      "metadata": {
        "id": "kBVDeszXY4B_"
      },
      "source": [
        "We use integer identifiers for the nodes for efficiency. In most real-world collections of hyperlinks, unlike this example, not every page will have in-links, nor will every page have out-links."
      ]
    },
    {
      "cell_type": "markdown",
      "metadata": {
        "id": "QPNsTGSsEwMX"
      },
      "source": [
        "## First Implementation and Test\n",
        "\n",
        "\\[10 points\\] Implement the iterative PageRank algorithm we discussed in class. Test your code on the six-node example using the input representation given above.  Be sure that your code handles pages that have no in-links or out-links properly.  (You may wish to test on a few such examples.) In later parts of this assignment, depending on how you store the data, it may be convenient to use iterators rather than storing the data in memory."
      ]
    },
    {
      "cell_type": "code",
      "metadata": {
        "id": "NMu_WaDA55sk",
        "colab": {
          "base_uri": "https://localhost:8080/"
        },
        "outputId": "233b5705-3c5d-4fdb-a5d0-a9410c8cc054"
      },
      "source": [
        "# TODO: Implement PageRank, given nodes and edges, to start with a uniform\n",
        "# distribution over nodes, run a fixed number of iterations, and\n",
        "# return a distribution over nodes.\n",
        "\n",
        "def page_rank_fixed_iter(nodes, edges, iterations=10, d=0.1):\n",
        "    n = len(nodes)\n",
        "\n",
        "    # initialize PageRank values\n",
        "    I = {node[0]: 1.0 / n for node in nodes}  # current PageRank estimate\n",
        "    R = {node[0]: 0.0 for node in nodes}      # updated PageRank estimate\n",
        "\n",
        "    # create adjacency list and outlink counts\n",
        "    adj_list = {node[0]: [] for node in nodes}\n",
        "    outlink_counts = {node[0]: 0 for node in nodes}\n",
        "\n",
        "    # populate adjacency list and outlink counts\n",
        "    for source, target in edges:\n",
        "        adj_list[source].append(target)\n",
        "        outlink_counts[source] += 1\n",
        "\n",
        "    for _ in range(iterations):\n",
        "        # set the base value for each node\n",
        "        for node_id in range(n):\n",
        "            p = nodes[node_id][0]\n",
        "            R[p] = (1 - d) / n\n",
        "\n",
        "            # get the set of pages linking to p\n",
        "            Q = adj_list[p]\n",
        "\n",
        "            if len(Q) > 0:\n",
        "                # distribute PageRank to its outlink targets\n",
        "                for q in Q:\n",
        "                    R[q] += d * (I[p] / outlink_counts[p])\n",
        "            else:\n",
        "                # if no outlinks, distribute PageRank equally\n",
        "                for q in range(n):\n",
        "                    R[nodes[q][0]] += d * (I[p] / n)\n",
        "\n",
        "        # update the PageRank estimates for the next iteration\n",
        "        I = R.copy()\n",
        "\n",
        "    # return final PageRank values as a list of tuples\n",
        "    return [(node[0], node[1], R[node[0]]) for node in nodes]\n",
        "\n",
        "\n",
        "\n",
        "# Output PageRank on the toy graph at various points.\n",
        "# Make sure your output has node number, name, and PageRank value.\n",
        "page_rank_fixed_iter(small_nodes, small_edges, 1)\n",
        "page_rank_fixed_iter(small_nodes, small_edges, 10)\n",
        "page_rank_fixed_iter(small_nodes, small_edges, 100)"
      ],
      "execution_count": 3,
      "outputs": [
        {
          "output_type": "execute_result",
          "data": {
            "text/plain": [
              "[(0, 'A', 0.17425000000000002),\n",
              " (1, 'B', 0.155),\n",
              " (2, 'C', 0.15375),\n",
              " (3, 'D', 0.15),\n",
              " (4, 'E', 0.155),\n",
              " (5, 'F', 0.15)]"
            ]
          },
          "metadata": {},
          "execution_count": 3
        }
      ]
    },
    {
      "cell_type": "markdown",
      "metadata": {
        "id": "y4duRjzABB9n"
      },
      "source": [
        "## PageRank on Web Crawl Data\n",
        "\n",
        "\\[20 points\\] Download and unpack a list of `.edu` websites and the links among them from the [Common Crawl](https://commoncrawl.org/2017/05/hostgraph-2017-feb-mar-apr-crawls/) open-source web crawl. For the sake of brevity, the data record links among websites, not web pages. The information for nodes and links is the same as the toy example above."
      ]
    },
    {
      "cell_type": "code",
      "metadata": {
        "id": "v6EDDdTQCd3y",
        "colab": {
          "base_uri": "https://localhost:8080/"
        },
        "outputId": "333fa372-67c6-40a1-bcc6-89348ab91a10"
      },
      "source": [
        "# If you're running on a machine (e.g., Windows) that doesn't have wget or gzip,\n",
        "# feel free to comment this out and use a different set of commands to load\n",
        "# the data.\n",
        "!wget https://khoury.northeastern.edu/home/dasmith/courses/cs6200/vertices-edu.txt.gz\n",
        "!gzip -df vertices-edu.txt.gz\n",
        "!wget https://khoury.northeastern.edu/home/dasmith/courses/cs6200/edges-edu.txt.gz\n",
        "!gzip -df edges-edu.txt.gz"
      ],
      "execution_count": 4,
      "outputs": [
        {
          "output_type": "stream",
          "name": "stdout",
          "text": [
            "--2024-10-16 20:21:04--  https://khoury.northeastern.edu/home/dasmith/courses/cs6200/vertices-edu.txt.gz\n",
            "Resolving khoury.northeastern.edu (khoury.northeastern.edu)... 52.70.229.197\n",
            "Connecting to khoury.northeastern.edu (khoury.northeastern.edu)|52.70.229.197|:443... connected.\n",
            "HTTP request sent, awaiting response... 301 Moved Permanently\n",
            "Location: https://www.khoury.northeastern.edu/home/dasmith/courses/cs6200/vertices-edu.txt.gz [following]\n",
            "--2024-10-16 20:21:04--  https://www.khoury.northeastern.edu/home/dasmith/courses/cs6200/vertices-edu.txt.gz\n",
            "Resolving www.khoury.northeastern.edu (www.khoury.northeastern.edu)... 52.70.229.197\n",
            "Connecting to www.khoury.northeastern.edu (www.khoury.northeastern.edu)|52.70.229.197|:443... connected.\n",
            "HTTP request sent, awaiting response... 200 OK\n",
            "Length: 3703486 (3.5M) [application/x-gzip]\n",
            "Saving to: ‘vertices-edu.txt.gz’\n",
            "\n",
            "vertices-edu.txt.gz 100%[===================>]   3.53M  8.10MB/s    in 0.4s    \n",
            "\n",
            "2024-10-16 20:21:05 (8.10 MB/s) - ‘vertices-edu.txt.gz’ saved [3703486/3703486]\n",
            "\n",
            "--2024-10-16 20:21:05--  https://khoury.northeastern.edu/home/dasmith/courses/cs6200/edges-edu.txt.gz\n",
            "Resolving khoury.northeastern.edu (khoury.northeastern.edu)... 52.70.229.197\n",
            "Connecting to khoury.northeastern.edu (khoury.northeastern.edu)|52.70.229.197|:443... connected.\n",
            "HTTP request sent, awaiting response... 301 Moved Permanently\n",
            "Location: https://www.khoury.northeastern.edu/home/dasmith/courses/cs6200/edges-edu.txt.gz [following]\n",
            "--2024-10-16 20:21:05--  https://www.khoury.northeastern.edu/home/dasmith/courses/cs6200/edges-edu.txt.gz\n",
            "Resolving www.khoury.northeastern.edu (www.khoury.northeastern.edu)... 52.70.229.197\n",
            "Connecting to www.khoury.northeastern.edu (www.khoury.northeastern.edu)|52.70.229.197|:443... connected.\n",
            "HTTP request sent, awaiting response... 200 OK\n",
            "Length: 12829526 (12M) [application/x-gzip]\n",
            "Saving to: ‘edges-edu.txt.gz’\n",
            "\n",
            "edges-edu.txt.gz    100%[===================>]  12.23M  17.8MB/s    in 0.7s    \n",
            "\n",
            "2024-10-16 20:21:06 (17.8 MB/s) - ‘edges-edu.txt.gz’ saved [12829526/12829526]\n",
            "\n"
          ]
        }
      ]
    },
    {
      "cell_type": "markdown",
      "metadata": {
        "id": "CW4yp1gPUwzb"
      },
      "source": [
        "There should now be files `vertices-edu.txt` and `edges-edu.txt`."
      ]
    },
    {
      "cell_type": "code",
      "metadata": {
        "id": "ly1t9fyjK7eC",
        "colab": {
          "base_uri": "https://localhost:8080/"
        },
        "outputId": "29aa0292-1acd-4d53-aa0e-49be30f7072a"
      },
      "source": [
        "# TODO: Process the raw data into the same format as the simple graph.\n",
        "# You may create lists or iterators.\n",
        "\n",
        "# process vertices file to create the list of nodes\n",
        "nodes = []\n",
        "with open('vertices-edu.txt', 'r') as f:\n",
        "    for line in f:\n",
        "        parts = line.strip().split()  # split the line into components\n",
        "        node_id = int(parts[0])       # node ID\n",
        "        website_name = parts[1]       # website name\n",
        "        nodes.append((node_id, website_name))  # append as a tuple\n",
        "\n",
        "# process edges file to create the list of edges\n",
        "edges = []\n",
        "with open('edges-edu.txt', 'r') as f:\n",
        "    for line in f:\n",
        "        parts = line.strip().split()  # split the line into components\n",
        "        source_node_id = int(parts[0])  # source node ID\n",
        "        target_node_id = int(parts[1])  # target node ID\n",
        "        edges.append((source_node_id, target_node_id))\n",
        "\n",
        "# check that nodes and edges are correct\n",
        "print({len(nodes)})\n",
        "print({len(edges)})\n"
      ],
      "execution_count": 5,
      "outputs": [
        {
          "output_type": "stream",
          "name": "stdout",
          "text": [
            "{469235}\n",
            "{3300462}\n"
          ]
        }
      ]
    },
    {
      "cell_type": "markdown",
      "metadata": {
        "id": "0WMf5L5VEqZb"
      },
      "source": [
        "Refine your implementation of PageRank to test for numerical convergence. Specificially, at each iteration, calculate the [perplexity](https://en.wikipedia.org/wiki/Perplexity) of the PageRank distribution, where perplexity is defined as 2 raised to the [Shannon entropy](https://en.wikipedia.org/wiki/Entropy_(information_theory)) of the PageRank distribution, i.e., $2^{H(PR)}$. (Recall the definition of entropy from our discussion of data compression.) The maximum perplexity of a PageRank distribution will therefore be the number of nodes in the graph.\n",
        "\n",
        "At each iteration, check the _change_ in perplexity. If the change is less than some threshold, you can stop.\n"
      ]
    },
    {
      "cell_type": "code",
      "metadata": {
        "id": "wsL0yQKvKqAC",
        "colab": {
          "base_uri": "https://localhost:8080/"
        },
        "outputId": "24f7466c-dd93-47ca-93eb-9b8f8bef2ebf"
      },
      "source": [
        "# TODO: Implement convergence testing in PageRank\n",
        "# If you choose, you can share some subroutines with your first version.\n",
        "# Print the change in perplexity at each iteration.\n",
        "import math\n",
        "\n",
        "# calculate the perplexity of the PageRank dist\n",
        "def find_perplexity(I):\n",
        "    entropy = 0\n",
        "    for rank in I.values():\n",
        "        if rank > 0:\n",
        "            entropy += rank * math.log2(rank)\n",
        "    entropy = -entropy\n",
        "    return 2 ** entropy\n",
        "\n",
        "def page_rank(nodes, edges, threshold=1, d=0.1, max_iterations=100):\n",
        "    n = len(nodes)\n",
        "\n",
        "    # initialize PageRank values\n",
        "    I = {node[0]: 1.0 / n for node in nodes}  # current PageRank estimate\n",
        "    R = {node[0]: 0.0 for node in nodes}      # updated PageRank estimate\n",
        "\n",
        "    # create adjacency list and outlink counts\n",
        "    adj_list = {node[0]: [] for node in nodes}\n",
        "    outlink_counts = {node[0]: 0 for node in nodes}\n",
        "\n",
        "    # populate adjacency list and outlink counts\n",
        "    for source, target in edges:\n",
        "        adj_list[source].append(target)\n",
        "        outlink_counts[source] += 1\n",
        "\n",
        "    previous_perplexity = find_perplexity(I)\n",
        "    print(f\"Initial perplexity: {previous_perplexity}\")\n",
        "\n",
        "    for iteration in range(max_iterations):\n",
        "        discon_sum = sum(I[p] for p in I if outlink_counts[p] == 0)  # sum of PageRank from disconnected nodes\n",
        "\n",
        "        # distribute the base value and disconnected node contribution\n",
        "        for p in range(n):\n",
        "            R[nodes[p][0]] = (1 - d) / n + d * (discon_sum / n)\n",
        "\n",
        "        # distribute PageRank to outlink targets\n",
        "        for p, outlinks in adj_list.items():\n",
        "            if outlinks:\n",
        "                share = d * (I[p] / outlink_counts[p])\n",
        "                for q in outlinks:\n",
        "                    R[q] += share\n",
        "\n",
        "        # calculate new perplexity\n",
        "        new_perplexity = find_perplexity(R)\n",
        "        print(f\"Iteration {iteration + 1}, Perplexity: {new_perplexity}, Change: {abs(new_perplexity - previous_perplexity)}\")\n",
        "\n",
        "        # check for convergence\n",
        "        if abs(new_perplexity - previous_perplexity) < threshold:\n",
        "            print(f\"Convergence reached at iteration {iteration + 1}\")\n",
        "            break\n",
        "\n",
        "        # update PageRank estimates for the next iteration\n",
        "        I = R.copy()\n",
        "        previous_perplexity = new_perplexity\n",
        "\n",
        "    # return final PageRank values as a list of tuples\n",
        "    return [(node[0], node[1], R[node[0]]) for node in nodes]\n",
        "\n",
        "# Run until perplexity changes by less than 1\n",
        "PR = page_rank(nodes, edges, 1)"
      ],
      "execution_count": 6,
      "outputs": [
        {
          "output_type": "stream",
          "name": "stdout",
          "text": [
            "Initial perplexity: 469234.99998989614\n",
            "Iteration 1, Perplexity: 460906.9021881449, Change: 8328.097801751224\n",
            "Iteration 2, Perplexity: 460711.5750317206, Change: 195.32715642428957\n",
            "Iteration 3, Perplexity: 460695.99348618067, Change: 15.581545539957006\n",
            "Iteration 4, Perplexity: 460695.4671955734, Change: 0.5262906072894111\n",
            "Convergence reached at iteration 4\n"
          ]
        }
      ]
    },
    {
      "cell_type": "markdown",
      "metadata": {
        "id": "rcncY2QHNl0M"
      },
      "source": [
        "## Link Analysis\n",
        "\n",
        "\\[20 points\\] In this final section, you will compute some properties of this web-site graph.\n",
        "\n",
        "First, consider the _in-link count_ of a website, simply the number of websites pointing to it (including self-links)."
      ]
    },
    {
      "cell_type": "code",
      "metadata": {
        "id": "a_FyPlLSO2bu",
        "colab": {
          "base_uri": "https://localhost:8080/"
        },
        "outputId": "f02be198-fd16-4a94-df3f-48c895eb4e72"
      },
      "source": [
        "# TODO: List the document ID, domain name, and in-link count of the 70 websites with the highest in-link count\n",
        "\n",
        "# initialize inlink counts\n",
        "inlink_counts = {node[0]: 0 for node in nodes}\n",
        "\n",
        "# populate inlink counts\n",
        "for source, target in edges:\n",
        "    inlink_counts[target] += 1\n",
        "\n",
        "# create a list containing document ID, domain name, inlink count as tuples\n",
        "inlink_data = [(node[0], node[1], inlink_counts[node[0]]) for node in nodes]\n",
        "\n",
        "# sort by inlink count in desc order and select the top 70\n",
        "top_inlinks = sorted(inlink_data, key=lambda x: x[2], reverse=True)[:70]\n",
        "\n",
        "# print the top 70 inlinks\n",
        "for inlink in top_inlinks:\n",
        "    print(\"Document ID | Domain Name | Inlink Count\")\n",
        "for doc_id, domain, count in top_inlinks:\n",
        "    print(f\"{doc_id: <12} | {domain: <20} | {count}\")\n"
      ],
      "execution_count": 7,
      "outputs": [
        {
          "output_type": "stream",
          "name": "stdout",
          "text": [
            "Document ID | Domain Name | Inlink Count\n",
            "Document ID | Domain Name | Inlink Count\n",
            "Document ID | Domain Name | Inlink Count\n",
            "Document ID | Domain Name | Inlink Count\n",
            "Document ID | Domain Name | Inlink Count\n",
            "Document ID | Domain Name | Inlink Count\n",
            "Document ID | Domain Name | Inlink Count\n",
            "Document ID | Domain Name | Inlink Count\n",
            "Document ID | Domain Name | Inlink Count\n",
            "Document ID | Domain Name | Inlink Count\n",
            "Document ID | Domain Name | Inlink Count\n",
            "Document ID | Domain Name | Inlink Count\n",
            "Document ID | Domain Name | Inlink Count\n",
            "Document ID | Domain Name | Inlink Count\n",
            "Document ID | Domain Name | Inlink Count\n",
            "Document ID | Domain Name | Inlink Count\n",
            "Document ID | Domain Name | Inlink Count\n",
            "Document ID | Domain Name | Inlink Count\n",
            "Document ID | Domain Name | Inlink Count\n",
            "Document ID | Domain Name | Inlink Count\n",
            "Document ID | Domain Name | Inlink Count\n",
            "Document ID | Domain Name | Inlink Count\n",
            "Document ID | Domain Name | Inlink Count\n",
            "Document ID | Domain Name | Inlink Count\n",
            "Document ID | Domain Name | Inlink Count\n",
            "Document ID | Domain Name | Inlink Count\n",
            "Document ID | Domain Name | Inlink Count\n",
            "Document ID | Domain Name | Inlink Count\n",
            "Document ID | Domain Name | Inlink Count\n",
            "Document ID | Domain Name | Inlink Count\n",
            "Document ID | Domain Name | Inlink Count\n",
            "Document ID | Domain Name | Inlink Count\n",
            "Document ID | Domain Name | Inlink Count\n",
            "Document ID | Domain Name | Inlink Count\n",
            "Document ID | Domain Name | Inlink Count\n",
            "Document ID | Domain Name | Inlink Count\n",
            "Document ID | Domain Name | Inlink Count\n",
            "Document ID | Domain Name | Inlink Count\n",
            "Document ID | Domain Name | Inlink Count\n",
            "Document ID | Domain Name | Inlink Count\n",
            "Document ID | Domain Name | Inlink Count\n",
            "Document ID | Domain Name | Inlink Count\n",
            "Document ID | Domain Name | Inlink Count\n",
            "Document ID | Domain Name | Inlink Count\n",
            "Document ID | Domain Name | Inlink Count\n",
            "Document ID | Domain Name | Inlink Count\n",
            "Document ID | Domain Name | Inlink Count\n",
            "Document ID | Domain Name | Inlink Count\n",
            "Document ID | Domain Name | Inlink Count\n",
            "Document ID | Domain Name | Inlink Count\n",
            "Document ID | Domain Name | Inlink Count\n",
            "Document ID | Domain Name | Inlink Count\n",
            "Document ID | Domain Name | Inlink Count\n",
            "Document ID | Domain Name | Inlink Count\n",
            "Document ID | Domain Name | Inlink Count\n",
            "Document ID | Domain Name | Inlink Count\n",
            "Document ID | Domain Name | Inlink Count\n",
            "Document ID | Domain Name | Inlink Count\n",
            "Document ID | Domain Name | Inlink Count\n",
            "Document ID | Domain Name | Inlink Count\n",
            "Document ID | Domain Name | Inlink Count\n",
            "Document ID | Domain Name | Inlink Count\n",
            "Document ID | Domain Name | Inlink Count\n",
            "Document ID | Domain Name | Inlink Count\n",
            "Document ID | Domain Name | Inlink Count\n",
            "Document ID | Domain Name | Inlink Count\n",
            "Document ID | Domain Name | Inlink Count\n",
            "Document ID | Domain Name | Inlink Count\n",
            "Document ID | Domain Name | Inlink Count\n",
            "Document ID | Domain Name | Inlink Count\n",
            "185524       | edu.mit.web          | 4388\n",
            "278032       | edu.stanford         | 4021\n",
            "244433       | edu.purdue.english.owl | 3531\n",
            "140443       | edu.indiana          | 3339\n",
            "237176       | edu.princeton        | 3251\n",
            "64587        | edu.columbia         | 3123\n",
            "465503       | edu.yale             | 2804\n",
            "418623       | edu.utexas           | 2622\n",
            "383763       | edu.unc              | 2592\n",
            "197698       | edu.nap              | 2494\n",
            "439637       | edu.washington       | 2291\n",
            "373442       | edu.umich            | 2281\n",
            "440674       | edu.washington.depts | 2276\n",
            "148945       | edu.jhu.muse         | 2255\n",
            "60975        | edu.colorado         | 2232\n",
            "449738       | edu.wisc             | 2230\n",
            "38320        | edu.bu               | 2205\n",
            "83572        | edu.dartmouth        | 1965\n",
            "408380       | edu.usc              | 1952\n",
            "178879       | edu.mit              | 1946\n",
            "27307        | edu.berkeley         | 1908\n",
            "233405       | edu.pitt             | 1857\n",
            "191069       | edu.msu              | 1810\n",
            "326371       | edu.uchicago.press   | 1763\n",
            "136464       | edu.illinois         | 1753\n",
            "93874        | edu.educause         | 1741\n",
            "56979        | edu.cmu.cs           | 1730\n",
            "199032       | edu.ncsu             | 1709\n",
            "36294        | edu.brown            | 1702\n",
            "202182       | edu.nd               | 1689\n",
            "68675        | edu.cornell          | 1685\n",
            "71095        | edu.cornell.law      | 1646\n",
            "183214       | edu.mit.mitpress     | 1644\n",
            "215627       | edu.nyu              | 1625\n",
            "56538        | edu.cmu              | 1583\n",
            "239378       | edu.psu              | 1541\n",
            "350412       | edu.ufl              | 1533\n",
            "120819       | edu.harvard          | 1529\n",
            "270369       | edu.si               | 1513\n",
            "107916       | edu.gatech           | 1500\n",
            "365396       | edu.uky              | 1497\n",
            "337138       | edu.ucop             | 1482\n",
            "358246       | edu.uic              | 1472\n",
            "382564       | edu.umn.www1         | 1470\n",
            "403069       | edu.upenn            | 1464\n",
            "293521       | edu.tamu             | 1452\n",
            "284517       | edu.stanford.web     | 1451\n",
            "256613       | edu.rutgers          | 1440\n",
            "367316       | edu.umass            | 1430\n",
            "457936       | edu.wsu              | 1419\n",
            "36154        | edu.brookings        | 1388\n",
            "323918       | edu.uchicago         | 1377\n",
            "440902       | edu.washington.faculty | 1363\n",
            "282555       | edu.stanford.plato   | 1353\n",
            "392894       | edu.universityofcalifornia | 1353\n",
            "329686       | edu.ucla             | 1347\n",
            "317828       | edu.ucdavis          | 1343\n",
            "354337       | edu.uga              | 1339\n",
            "225417       | edu.osu              | 1322\n",
            "393138       | edu.unl              | 1319\n",
            "14945        | edu.arizona          | 1308\n",
            "429488       | edu.vanderbilt       | 1308\n",
            "377474       | edu.umich.www-personal | 1302\n",
            "342997       | edu.ucsd             | 1295\n",
            "360674       | edu.uiowa            | 1285\n",
            "378163       | edu.umn              | 1285\n",
            "118806       | edu.gwu              | 1280\n",
            "621          | edu.academia         | 1272\n",
            "334739       | edu.uconn            | 1268\n",
            "89455        | edu.duke             | 1263\n"
          ]
        }
      ]
    },
    {
      "cell_type": "markdown",
      "metadata": {
        "id": "5uSlQEtmPTTA"
      },
      "source": [
        "Then, use the PageRank values compute by your second implementation. Note that some websites will have both a high in-link count and PageRank."
      ]
    },
    {
      "cell_type": "code",
      "metadata": {
        "id": "nwcci2kdPlMR"
      },
      "source": [
        "# TODO: List the document ID, domain name, and PageRank of the 70 websites with the highest PageRank."
      ],
      "execution_count": null,
      "outputs": []
    },
    {
      "cell_type": "markdown",
      "metadata": {
        "id": "SxODBxL_Pyy2"
      },
      "source": [
        "Finally, compute some summary statistics on this dataset."
      ]
    },
    {
      "cell_type": "code",
      "metadata": {
        "id": "oD4bq6AyQIsU"
      },
      "source": [
        "# TODO: Compute:\n",
        "# - the proportion of websites with no in-links (i.e., source nodes);\n",
        "\n",
        "# - the proportion of websites with no out-links (i.e., sink nodes);\n",
        "\n",
        "# - the proportion of websites whose PageRank is higher than the initial uniform distribution.\n"
      ],
      "execution_count": null,
      "outputs": []
    }
  ]
}